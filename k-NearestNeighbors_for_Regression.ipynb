{
 "cells": [
  {
   "cell_type": "code",
   "execution_count": 12,
   "metadata": {},
   "outputs": [],
   "source": [
    "#import required packages\n",
    "\n",
    "import os\n",
    "import numpy as np\n",
    "import pandas as pd\n",
    "import math\n",
    "\n",
    "\n",
    "from sklearn import neighbors\n",
    "from sklearn.metrics import mean_squared_error \n",
    "from math import sqrt\n",
    "\n",
    "from sklearn.preprocessing import MinMaxScaler\n",
    "from sklearn.impute import SimpleImputer\n",
    "\n",
    "import matplotlib.pyplot as plt\n",
    "%matplotlib inline\n",
    "\n",
    "from sklearn.model_selection import train_test_split\n"
   ]
  },
  {
   "cell_type": "code",
   "execution_count": 41,
   "metadata": {},
   "outputs": [],
   "source": [
    "import warnings\n",
    "warnings.filterwarnings('ignore')"
   ]
  },
  {
   "cell_type": "code",
   "execution_count": 13,
   "metadata": {},
   "outputs": [
    {
     "data": {
      "text/html": [
       "<div>\n",
       "<style scoped>\n",
       "    .dataframe tbody tr th:only-of-type {\n",
       "        vertical-align: middle;\n",
       "    }\n",
       "\n",
       "    .dataframe tbody tr th {\n",
       "        vertical-align: top;\n",
       "    }\n",
       "\n",
       "    .dataframe thead th {\n",
       "        text-align: right;\n",
       "    }\n",
       "</style>\n",
       "<table border=\"1\" class=\"dataframe\">\n",
       "  <thead>\n",
       "    <tr style=\"text-align: right;\">\n",
       "      <th></th>\n",
       "      <th>Item_Identifier</th>\n",
       "      <th>Item_Weight</th>\n",
       "      <th>Item_Fat_Content</th>\n",
       "      <th>Item_Visibility</th>\n",
       "      <th>Item_Type</th>\n",
       "      <th>Item_MRP</th>\n",
       "      <th>Outlet_Identifier</th>\n",
       "      <th>Outlet_Establishment_Year</th>\n",
       "      <th>Outlet_Size</th>\n",
       "      <th>Outlet_Location_Type</th>\n",
       "      <th>Outlet_Type</th>\n",
       "      <th>Item_Outlet_Sales</th>\n",
       "    </tr>\n",
       "  </thead>\n",
       "  <tbody>\n",
       "    <tr>\n",
       "      <th>0</th>\n",
       "      <td>FDA15</td>\n",
       "      <td>9.30</td>\n",
       "      <td>Low Fat</td>\n",
       "      <td>0.016047</td>\n",
       "      <td>Dairy</td>\n",
       "      <td>249.8092</td>\n",
       "      <td>OUT049</td>\n",
       "      <td>1999</td>\n",
       "      <td>Medium</td>\n",
       "      <td>Tier 1</td>\n",
       "      <td>Supermarket Type1</td>\n",
       "      <td>3735.1380</td>\n",
       "    </tr>\n",
       "    <tr>\n",
       "      <th>1</th>\n",
       "      <td>DRC01</td>\n",
       "      <td>5.92</td>\n",
       "      <td>Regular</td>\n",
       "      <td>0.019278</td>\n",
       "      <td>Soft Drinks</td>\n",
       "      <td>48.2692</td>\n",
       "      <td>OUT018</td>\n",
       "      <td>2009</td>\n",
       "      <td>Medium</td>\n",
       "      <td>Tier 3</td>\n",
       "      <td>Supermarket Type2</td>\n",
       "      <td>443.4228</td>\n",
       "    </tr>\n",
       "    <tr>\n",
       "      <th>2</th>\n",
       "      <td>FDN15</td>\n",
       "      <td>17.50</td>\n",
       "      <td>Low Fat</td>\n",
       "      <td>0.016760</td>\n",
       "      <td>Meat</td>\n",
       "      <td>141.6180</td>\n",
       "      <td>OUT049</td>\n",
       "      <td>1999</td>\n",
       "      <td>Medium</td>\n",
       "      <td>Tier 1</td>\n",
       "      <td>Supermarket Type1</td>\n",
       "      <td>2097.2700</td>\n",
       "    </tr>\n",
       "    <tr>\n",
       "      <th>3</th>\n",
       "      <td>FDX07</td>\n",
       "      <td>19.20</td>\n",
       "      <td>Regular</td>\n",
       "      <td>0.000000</td>\n",
       "      <td>Fruits and Vegetables</td>\n",
       "      <td>182.0950</td>\n",
       "      <td>OUT010</td>\n",
       "      <td>1998</td>\n",
       "      <td>NaN</td>\n",
       "      <td>Tier 3</td>\n",
       "      <td>Grocery Store</td>\n",
       "      <td>732.3800</td>\n",
       "    </tr>\n",
       "    <tr>\n",
       "      <th>4</th>\n",
       "      <td>NCD19</td>\n",
       "      <td>8.93</td>\n",
       "      <td>Low Fat</td>\n",
       "      <td>0.000000</td>\n",
       "      <td>Household</td>\n",
       "      <td>53.8614</td>\n",
       "      <td>OUT013</td>\n",
       "      <td>1987</td>\n",
       "      <td>High</td>\n",
       "      <td>Tier 3</td>\n",
       "      <td>Supermarket Type1</td>\n",
       "      <td>994.7052</td>\n",
       "    </tr>\n",
       "  </tbody>\n",
       "</table>\n",
       "</div>"
      ],
      "text/plain": [
       "  Item_Identifier  Item_Weight Item_Fat_Content  Item_Visibility  \\\n",
       "0           FDA15         9.30          Low Fat         0.016047   \n",
       "1           DRC01         5.92          Regular         0.019278   \n",
       "2           FDN15        17.50          Low Fat         0.016760   \n",
       "3           FDX07        19.20          Regular         0.000000   \n",
       "4           NCD19         8.93          Low Fat         0.000000   \n",
       "\n",
       "               Item_Type  Item_MRP Outlet_Identifier  \\\n",
       "0                  Dairy  249.8092            OUT049   \n",
       "1            Soft Drinks   48.2692            OUT018   \n",
       "2                   Meat  141.6180            OUT049   \n",
       "3  Fruits and Vegetables  182.0950            OUT010   \n",
       "4              Household   53.8614            OUT013   \n",
       "\n",
       "   Outlet_Establishment_Year Outlet_Size Outlet_Location_Type  \\\n",
       "0                       1999      Medium               Tier 1   \n",
       "1                       2009      Medium               Tier 3   \n",
       "2                       1999      Medium               Tier 1   \n",
       "3                       1998         NaN               Tier 3   \n",
       "4                       1987        High               Tier 3   \n",
       "\n",
       "         Outlet_Type  Item_Outlet_Sales  \n",
       "0  Supermarket Type1          3735.1380  \n",
       "1  Supermarket Type2           443.4228  \n",
       "2  Supermarket Type1          2097.2700  \n",
       "3      Grocery Store           732.3800  \n",
       "4  Supermarket Type1           994.7052  "
      ]
     },
     "execution_count": 13,
     "metadata": {},
     "output_type": "execute_result"
    }
   ],
   "source": [
    "df = pd.read_csv('big mart train.csv')\n",
    "df.head()"
   ]
  },
  {
   "cell_type": "code",
   "execution_count": 14,
   "metadata": {},
   "outputs": [
    {
     "data": {
      "text/plain": [
       "Item_Identifier               object\n",
       "Item_Weight                  float64\n",
       "Item_Fat_Content              object\n",
       "Item_Visibility              float64\n",
       "Item_Type                     object\n",
       "Item_MRP                     float64\n",
       "Outlet_Identifier             object\n",
       "Outlet_Establishment_Year      int64\n",
       "Outlet_Size                   object\n",
       "Outlet_Location_Type          object\n",
       "Outlet_Type                   object\n",
       "Item_Outlet_Sales            float64\n",
       "dtype: object"
      ]
     },
     "execution_count": 14,
     "metadata": {},
     "output_type": "execute_result"
    }
   ],
   "source": [
    "df.dtypes"
   ]
  },
  {
   "cell_type": "code",
   "execution_count": 15,
   "metadata": {
    "scrolled": true
   },
   "outputs": [
    {
     "data": {
      "text/plain": [
       "Item_Identifier                 0\n",
       "Item_Weight                  1463\n",
       "Item_Fat_Content                0\n",
       "Item_Visibility                 0\n",
       "Item_Type                       0\n",
       "Item_MRP                        0\n",
       "Outlet_Identifier               0\n",
       "Outlet_Establishment_Year       0\n",
       "Outlet_Size                  2410\n",
       "Outlet_Location_Type            0\n",
       "Outlet_Type                     0\n",
       "Item_Outlet_Sales               0\n",
       "dtype: int64"
      ]
     },
     "execution_count": 15,
     "metadata": {},
     "output_type": "execute_result"
    }
   ],
   "source": [
    "df.isnull().sum()"
   ]
  },
  {
   "cell_type": "code",
   "execution_count": 16,
   "metadata": {},
   "outputs": [],
   "source": [
    "df.drop(['Item_Identifier', 'Outlet_Identifier'], axis=1, inplace=True)"
   ]
  },
  {
   "cell_type": "code",
   "execution_count": 17,
   "metadata": {},
   "outputs": [],
   "source": [
    "for cols in df.columns :\n",
    "    if df[cols].dtype == 'object':\n",
    "        df[cols]=df[cols].astype('category')"
   ]
  },
  {
   "cell_type": "code",
   "execution_count": 18,
   "metadata": {},
   "outputs": [
    {
     "data": {
      "text/plain": [
       "Item_Weight                   float64\n",
       "Item_Fat_Content             category\n",
       "Item_Visibility               float64\n",
       "Item_Type                    category\n",
       "Item_MRP                      float64\n",
       "Outlet_Establishment_Year       int64\n",
       "Outlet_Size                  category\n",
       "Outlet_Location_Type         category\n",
       "Outlet_Type                  category\n",
       "Item_Outlet_Sales             float64\n",
       "dtype: object"
      ]
     },
     "execution_count": 18,
     "metadata": {},
     "output_type": "execute_result"
    }
   ],
   "source": [
    "df.dtypes"
   ]
  },
  {
   "cell_type": "code",
   "execution_count": 19,
   "metadata": {},
   "outputs": [
    {
     "data": {
      "text/plain": [
       "Index(['Item_Fat_Content', 'Item_Type', 'Outlet_Size', 'Outlet_Location_Type',\n",
       "       'Outlet_Type'],\n",
       "      dtype='object')"
      ]
     },
     "execution_count": 19,
     "metadata": {},
     "output_type": "execute_result"
    }
   ],
   "source": [
    "cat_attr = df.select_dtypes('category').columns\n",
    "cat_attr"
   ]
  },
  {
   "cell_type": "code",
   "execution_count": 20,
   "metadata": {},
   "outputs": [
    {
     "data": {
      "text/html": [
       "<div>\n",
       "<style scoped>\n",
       "    .dataframe tbody tr th:only-of-type {\n",
       "        vertical-align: middle;\n",
       "    }\n",
       "\n",
       "    .dataframe tbody tr th {\n",
       "        vertical-align: top;\n",
       "    }\n",
       "\n",
       "    .dataframe thead th {\n",
       "        text-align: right;\n",
       "    }\n",
       "</style>\n",
       "<table border=\"1\" class=\"dataframe\">\n",
       "  <thead>\n",
       "    <tr style=\"text-align: right;\">\n",
       "      <th></th>\n",
       "      <th>Item_Weight</th>\n",
       "      <th>Item_Visibility</th>\n",
       "      <th>Item_MRP</th>\n",
       "      <th>Outlet_Establishment_Year</th>\n",
       "      <th>Item_Outlet_Sales</th>\n",
       "      <th>Item_Fat_Content_Low Fat</th>\n",
       "      <th>Item_Fat_Content_Regular</th>\n",
       "      <th>Item_Fat_Content_low fat</th>\n",
       "      <th>Item_Fat_Content_reg</th>\n",
       "      <th>Item_Type_Breads</th>\n",
       "      <th>...</th>\n",
       "      <th>Item_Type_Snack Foods</th>\n",
       "      <th>Item_Type_Soft Drinks</th>\n",
       "      <th>Item_Type_Starchy Foods</th>\n",
       "      <th>Outlet_Size_Medium</th>\n",
       "      <th>Outlet_Size_Small</th>\n",
       "      <th>Outlet_Location_Type_Tier 2</th>\n",
       "      <th>Outlet_Location_Type_Tier 3</th>\n",
       "      <th>Outlet_Type_Supermarket Type1</th>\n",
       "      <th>Outlet_Type_Supermarket Type2</th>\n",
       "      <th>Outlet_Type_Supermarket Type3</th>\n",
       "    </tr>\n",
       "  </thead>\n",
       "  <tbody>\n",
       "    <tr>\n",
       "      <th>0</th>\n",
       "      <td>9.30</td>\n",
       "      <td>0.016047</td>\n",
       "      <td>249.8092</td>\n",
       "      <td>1999</td>\n",
       "      <td>3735.1380</td>\n",
       "      <td>1</td>\n",
       "      <td>0</td>\n",
       "      <td>0</td>\n",
       "      <td>0</td>\n",
       "      <td>0</td>\n",
       "      <td>...</td>\n",
       "      <td>0</td>\n",
       "      <td>0</td>\n",
       "      <td>0</td>\n",
       "      <td>1</td>\n",
       "      <td>0</td>\n",
       "      <td>0</td>\n",
       "      <td>0</td>\n",
       "      <td>1</td>\n",
       "      <td>0</td>\n",
       "      <td>0</td>\n",
       "    </tr>\n",
       "    <tr>\n",
       "      <th>1</th>\n",
       "      <td>5.92</td>\n",
       "      <td>0.019278</td>\n",
       "      <td>48.2692</td>\n",
       "      <td>2009</td>\n",
       "      <td>443.4228</td>\n",
       "      <td>0</td>\n",
       "      <td>1</td>\n",
       "      <td>0</td>\n",
       "      <td>0</td>\n",
       "      <td>0</td>\n",
       "      <td>...</td>\n",
       "      <td>0</td>\n",
       "      <td>1</td>\n",
       "      <td>0</td>\n",
       "      <td>1</td>\n",
       "      <td>0</td>\n",
       "      <td>0</td>\n",
       "      <td>1</td>\n",
       "      <td>0</td>\n",
       "      <td>1</td>\n",
       "      <td>0</td>\n",
       "    </tr>\n",
       "    <tr>\n",
       "      <th>2</th>\n",
       "      <td>17.50</td>\n",
       "      <td>0.016760</td>\n",
       "      <td>141.6180</td>\n",
       "      <td>1999</td>\n",
       "      <td>2097.2700</td>\n",
       "      <td>1</td>\n",
       "      <td>0</td>\n",
       "      <td>0</td>\n",
       "      <td>0</td>\n",
       "      <td>0</td>\n",
       "      <td>...</td>\n",
       "      <td>0</td>\n",
       "      <td>0</td>\n",
       "      <td>0</td>\n",
       "      <td>1</td>\n",
       "      <td>0</td>\n",
       "      <td>0</td>\n",
       "      <td>0</td>\n",
       "      <td>1</td>\n",
       "      <td>0</td>\n",
       "      <td>0</td>\n",
       "    </tr>\n",
       "    <tr>\n",
       "      <th>3</th>\n",
       "      <td>19.20</td>\n",
       "      <td>0.000000</td>\n",
       "      <td>182.0950</td>\n",
       "      <td>1998</td>\n",
       "      <td>732.3800</td>\n",
       "      <td>0</td>\n",
       "      <td>1</td>\n",
       "      <td>0</td>\n",
       "      <td>0</td>\n",
       "      <td>0</td>\n",
       "      <td>...</td>\n",
       "      <td>0</td>\n",
       "      <td>0</td>\n",
       "      <td>0</td>\n",
       "      <td>0</td>\n",
       "      <td>0</td>\n",
       "      <td>0</td>\n",
       "      <td>1</td>\n",
       "      <td>0</td>\n",
       "      <td>0</td>\n",
       "      <td>0</td>\n",
       "    </tr>\n",
       "    <tr>\n",
       "      <th>4</th>\n",
       "      <td>8.93</td>\n",
       "      <td>0.000000</td>\n",
       "      <td>53.8614</td>\n",
       "      <td>1987</td>\n",
       "      <td>994.7052</td>\n",
       "      <td>1</td>\n",
       "      <td>0</td>\n",
       "      <td>0</td>\n",
       "      <td>0</td>\n",
       "      <td>0</td>\n",
       "      <td>...</td>\n",
       "      <td>0</td>\n",
       "      <td>0</td>\n",
       "      <td>0</td>\n",
       "      <td>0</td>\n",
       "      <td>0</td>\n",
       "      <td>0</td>\n",
       "      <td>1</td>\n",
       "      <td>1</td>\n",
       "      <td>0</td>\n",
       "      <td>0</td>\n",
       "    </tr>\n",
       "  </tbody>\n",
       "</table>\n",
       "<p>5 rows × 31 columns</p>\n",
       "</div>"
      ],
      "text/plain": [
       "   Item_Weight  Item_Visibility  Item_MRP  Outlet_Establishment_Year  \\\n",
       "0         9.30         0.016047  249.8092                       1999   \n",
       "1         5.92         0.019278   48.2692                       2009   \n",
       "2        17.50         0.016760  141.6180                       1999   \n",
       "3        19.20         0.000000  182.0950                       1998   \n",
       "4         8.93         0.000000   53.8614                       1987   \n",
       "\n",
       "   Item_Outlet_Sales  Item_Fat_Content_Low Fat  Item_Fat_Content_Regular  \\\n",
       "0          3735.1380                         1                         0   \n",
       "1           443.4228                         0                         1   \n",
       "2          2097.2700                         1                         0   \n",
       "3           732.3800                         0                         1   \n",
       "4           994.7052                         1                         0   \n",
       "\n",
       "   Item_Fat_Content_low fat  Item_Fat_Content_reg  Item_Type_Breads  ...  \\\n",
       "0                         0                     0                 0  ...   \n",
       "1                         0                     0                 0  ...   \n",
       "2                         0                     0                 0  ...   \n",
       "3                         0                     0                 0  ...   \n",
       "4                         0                     0                 0  ...   \n",
       "\n",
       "   Item_Type_Snack Foods  Item_Type_Soft Drinks  Item_Type_Starchy Foods  \\\n",
       "0                      0                      0                        0   \n",
       "1                      0                      1                        0   \n",
       "2                      0                      0                        0   \n",
       "3                      0                      0                        0   \n",
       "4                      0                      0                        0   \n",
       "\n",
       "   Outlet_Size_Medium  Outlet_Size_Small  Outlet_Location_Type_Tier 2  \\\n",
       "0                   1                  0                            0   \n",
       "1                   1                  0                            0   \n",
       "2                   1                  0                            0   \n",
       "3                   0                  0                            0   \n",
       "4                   0                  0                            0   \n",
       "\n",
       "   Outlet_Location_Type_Tier 3  Outlet_Type_Supermarket Type1  \\\n",
       "0                            0                              1   \n",
       "1                            1                              0   \n",
       "2                            0                              1   \n",
       "3                            1                              0   \n",
       "4                            1                              1   \n",
       "\n",
       "   Outlet_Type_Supermarket Type2  Outlet_Type_Supermarket Type3  \n",
       "0                              0                              0  \n",
       "1                              1                              0  \n",
       "2                              0                              0  \n",
       "3                              0                              0  \n",
       "4                              0                              0  \n",
       "\n",
       "[5 rows x 31 columns]"
      ]
     },
     "execution_count": 20,
     "metadata": {},
     "output_type": "execute_result"
    }
   ],
   "source": [
    "df = pd.get_dummies(columns=cat_attr,data=df,drop_first=True)\n",
    "df.head()"
   ]
  },
  {
   "cell_type": "code",
   "execution_count": 21,
   "metadata": {},
   "outputs": [
    {
     "data": {
      "text/plain": [
       "Item_Weight                        float64\n",
       "Item_Visibility                    float64\n",
       "Item_MRP                           float64\n",
       "Outlet_Establishment_Year            int64\n",
       "Item_Outlet_Sales                  float64\n",
       "Item_Fat_Content_Low Fat             uint8\n",
       "Item_Fat_Content_Regular             uint8\n",
       "Item_Fat_Content_low fat             uint8\n",
       "Item_Fat_Content_reg                 uint8\n",
       "Item_Type_Breads                     uint8\n",
       "Item_Type_Breakfast                  uint8\n",
       "Item_Type_Canned                     uint8\n",
       "Item_Type_Dairy                      uint8\n",
       "Item_Type_Frozen Foods               uint8\n",
       "Item_Type_Fruits and Vegetables      uint8\n",
       "Item_Type_Hard Drinks                uint8\n",
       "Item_Type_Health and Hygiene         uint8\n",
       "Item_Type_Household                  uint8\n",
       "Item_Type_Meat                       uint8\n",
       "Item_Type_Others                     uint8\n",
       "Item_Type_Seafood                    uint8\n",
       "Item_Type_Snack Foods                uint8\n",
       "Item_Type_Soft Drinks                uint8\n",
       "Item_Type_Starchy Foods              uint8\n",
       "Outlet_Size_Medium                   uint8\n",
       "Outlet_Size_Small                    uint8\n",
       "Outlet_Location_Type_Tier 2          uint8\n",
       "Outlet_Location_Type_Tier 3          uint8\n",
       "Outlet_Type_Supermarket Type1        uint8\n",
       "Outlet_Type_Supermarket Type2        uint8\n",
       "Outlet_Type_Supermarket Type3        uint8\n",
       "dtype: object"
      ]
     },
     "execution_count": 21,
     "metadata": {},
     "output_type": "execute_result"
    }
   ],
   "source": [
    "df.dtypes"
   ]
  },
  {
   "cell_type": "code",
   "execution_count": 22,
   "metadata": {},
   "outputs": [],
   "source": [
    "for cols in df.columns :\n",
    "    if df[cols].dtype == 'uint8':\n",
    "        df[cols]=df[cols].astype('category')"
   ]
  },
  {
   "cell_type": "code",
   "execution_count": 23,
   "metadata": {},
   "outputs": [
    {
     "data": {
      "text/plain": [
       "Item_Weight                         float64\n",
       "Item_Visibility                     float64\n",
       "Item_MRP                            float64\n",
       "Outlet_Establishment_Year             int64\n",
       "Item_Outlet_Sales                   float64\n",
       "Item_Fat_Content_Low Fat           category\n",
       "Item_Fat_Content_Regular           category\n",
       "Item_Fat_Content_low fat           category\n",
       "Item_Fat_Content_reg               category\n",
       "Item_Type_Breads                   category\n",
       "Item_Type_Breakfast                category\n",
       "Item_Type_Canned                   category\n",
       "Item_Type_Dairy                    category\n",
       "Item_Type_Frozen Foods             category\n",
       "Item_Type_Fruits and Vegetables    category\n",
       "Item_Type_Hard Drinks              category\n",
       "Item_Type_Health and Hygiene       category\n",
       "Item_Type_Household                category\n",
       "Item_Type_Meat                     category\n",
       "Item_Type_Others                   category\n",
       "Item_Type_Seafood                  category\n",
       "Item_Type_Snack Foods              category\n",
       "Item_Type_Soft Drinks              category\n",
       "Item_Type_Starchy Foods            category\n",
       "Outlet_Size_Medium                 category\n",
       "Outlet_Size_Small                  category\n",
       "Outlet_Location_Type_Tier 2        category\n",
       "Outlet_Location_Type_Tier 3        category\n",
       "Outlet_Type_Supermarket Type1      category\n",
       "Outlet_Type_Supermarket Type2      category\n",
       "Outlet_Type_Supermarket Type3      category\n",
       "dtype: object"
      ]
     },
     "execution_count": 23,
     "metadata": {},
     "output_type": "execute_result"
    }
   ],
   "source": [
    "df.dtypes"
   ]
  },
  {
   "cell_type": "markdown",
   "metadata": {},
   "source": [
    "#### Train-test split"
   ]
  },
  {
   "cell_type": "code",
   "execution_count": 28,
   "metadata": {},
   "outputs": [],
   "source": [
    "y=df['Item_Outlet_Sales']\n",
    "X=df.drop('Item_Outlet_Sales', axis=1)\n",
    "X_train, X_test, y_train, y_test = train_test_split(X, y, test_size=0.20,random_state=123)  "
   ]
  },
  {
   "cell_type": "code",
   "execution_count": 29,
   "metadata": {},
   "outputs": [
    {
     "data": {
      "text/plain": [
       "Index(['Item_Weight', 'Item_Visibility', 'Item_MRP',\n",
       "       'Outlet_Establishment_Year'],\n",
       "      dtype='object')"
      ]
     },
     "execution_count": 29,
     "metadata": {},
     "output_type": "execute_result"
    }
   ],
   "source": [
    "num_attr=X_train.select_dtypes(['int64','float64']).columns\n",
    "num_attr"
   ]
  },
  {
   "cell_type": "code",
   "execution_count": 30,
   "metadata": {},
   "outputs": [
    {
     "data": {
      "text/plain": [
       "Index(['Item_Fat_Content_Low Fat', 'Item_Fat_Content_Regular',\n",
       "       'Item_Fat_Content_low fat', 'Item_Fat_Content_reg', 'Item_Type_Breads',\n",
       "       'Item_Type_Breakfast', 'Item_Type_Canned', 'Item_Type_Dairy',\n",
       "       'Item_Type_Frozen Foods', 'Item_Type_Fruits and Vegetables',\n",
       "       'Item_Type_Hard Drinks', 'Item_Type_Health and Hygiene',\n",
       "       'Item_Type_Household', 'Item_Type_Meat', 'Item_Type_Others',\n",
       "       'Item_Type_Seafood', 'Item_Type_Snack Foods', 'Item_Type_Soft Drinks',\n",
       "       'Item_Type_Starchy Foods', 'Outlet_Size_Medium', 'Outlet_Size_Small',\n",
       "       'Outlet_Location_Type_Tier 2', 'Outlet_Location_Type_Tier 3',\n",
       "       'Outlet_Type_Supermarket Type1', 'Outlet_Type_Supermarket Type2',\n",
       "       'Outlet_Type_Supermarket Type3'],\n",
       "      dtype='object')"
      ]
     },
     "execution_count": 30,
     "metadata": {},
     "output_type": "execute_result"
    }
   ],
   "source": [
    "cat_attr = X_train.select_dtypes('category').columns\n",
    "cat_attr"
   ]
  },
  {
   "cell_type": "markdown",
   "metadata": {},
   "source": [
    "#### Imputation for missing values for numeric attributes"
   ]
  },
  {
   "cell_type": "code",
   "execution_count": 31,
   "metadata": {},
   "outputs": [
    {
     "name": "stderr",
     "output_type": "stream",
     "text": [
      "<ipython-input-31-ac535a0fc578>:4: SettingWithCopyWarning: \n",
      "A value is trying to be set on a copy of a slice from a DataFrame.\n",
      "Try using .loc[row_indexer,col_indexer] = value instead\n",
      "\n",
      "See the caveats in the documentation: https://pandas.pydata.org/pandas-docs/stable/user_guide/indexing.html#returning-a-view-versus-a-copy\n",
      "  X_train[num_attr] = imputer.transform(X_train[num_attr])\n",
      "C:\\Users\\reshm\\anaconda3\\lib\\site-packages\\pandas\\core\\indexing.py:966: SettingWithCopyWarning: \n",
      "A value is trying to be set on a copy of a slice from a DataFrame.\n",
      "Try using .loc[row_indexer,col_indexer] = value instead\n",
      "\n",
      "See the caveats in the documentation: https://pandas.pydata.org/pandas-docs/stable/user_guide/indexing.html#returning-a-view-versus-a-copy\n",
      "  self.obj[item] = s\n",
      "<ipython-input-31-ac535a0fc578>:5: SettingWithCopyWarning: \n",
      "A value is trying to be set on a copy of a slice from a DataFrame.\n",
      "Try using .loc[row_indexer,col_indexer] = value instead\n",
      "\n",
      "See the caveats in the documentation: https://pandas.pydata.org/pandas-docs/stable/user_guide/indexing.html#returning-a-view-versus-a-copy\n",
      "  X_test[num_attr] = imputer.transform(X_test[num_attr])\n",
      "C:\\Users\\reshm\\anaconda3\\lib\\site-packages\\pandas\\core\\indexing.py:966: SettingWithCopyWarning: \n",
      "A value is trying to be set on a copy of a slice from a DataFrame.\n",
      "Try using .loc[row_indexer,col_indexer] = value instead\n",
      "\n",
      "See the caveats in the documentation: https://pandas.pydata.org/pandas-docs/stable/user_guide/indexing.html#returning-a-view-versus-a-copy\n",
      "  self.obj[item] = s\n"
     ]
    }
   ],
   "source": [
    "imputer = SimpleImputer(strategy='median')\n",
    "imputer = imputer.fit(X_train[num_attr])\n",
    "\n",
    "X_train[num_attr] = imputer.transform(X_train[num_attr])\n",
    "X_test[num_attr] = imputer.transform(X_test[num_attr])"
   ]
  },
  {
   "cell_type": "code",
   "execution_count": 32,
   "metadata": {},
   "outputs": [
    {
     "data": {
      "text/plain": [
       "Item_Weight                        0\n",
       "Item_Visibility                    0\n",
       "Item_MRP                           0\n",
       "Outlet_Establishment_Year          0\n",
       "Item_Fat_Content_Low Fat           0\n",
       "Item_Fat_Content_Regular           0\n",
       "Item_Fat_Content_low fat           0\n",
       "Item_Fat_Content_reg               0\n",
       "Item_Type_Breads                   0\n",
       "Item_Type_Breakfast                0\n",
       "Item_Type_Canned                   0\n",
       "Item_Type_Dairy                    0\n",
       "Item_Type_Frozen Foods             0\n",
       "Item_Type_Fruits and Vegetables    0\n",
       "Item_Type_Hard Drinks              0\n",
       "Item_Type_Health and Hygiene       0\n",
       "Item_Type_Household                0\n",
       "Item_Type_Meat                     0\n",
       "Item_Type_Others                   0\n",
       "Item_Type_Seafood                  0\n",
       "Item_Type_Snack Foods              0\n",
       "Item_Type_Soft Drinks              0\n",
       "Item_Type_Starchy Foods            0\n",
       "Outlet_Size_Medium                 0\n",
       "Outlet_Size_Small                  0\n",
       "Outlet_Location_Type_Tier 2        0\n",
       "Outlet_Location_Type_Tier 3        0\n",
       "Outlet_Type_Supermarket Type1      0\n",
       "Outlet_Type_Supermarket Type2      0\n",
       "Outlet_Type_Supermarket Type3      0\n",
       "dtype: int64"
      ]
     },
     "execution_count": 32,
     "metadata": {},
     "output_type": "execute_result"
    }
   ],
   "source": [
    "X_train.isnull().sum()"
   ]
  },
  {
   "cell_type": "code",
   "execution_count": 33,
   "metadata": {},
   "outputs": [
    {
     "data": {
      "text/plain": [
       "Item_Weight                        0\n",
       "Item_Visibility                    0\n",
       "Item_MRP                           0\n",
       "Outlet_Establishment_Year          0\n",
       "Item_Fat_Content_Low Fat           0\n",
       "Item_Fat_Content_Regular           0\n",
       "Item_Fat_Content_low fat           0\n",
       "Item_Fat_Content_reg               0\n",
       "Item_Type_Breads                   0\n",
       "Item_Type_Breakfast                0\n",
       "Item_Type_Canned                   0\n",
       "Item_Type_Dairy                    0\n",
       "Item_Type_Frozen Foods             0\n",
       "Item_Type_Fruits and Vegetables    0\n",
       "Item_Type_Hard Drinks              0\n",
       "Item_Type_Health and Hygiene       0\n",
       "Item_Type_Household                0\n",
       "Item_Type_Meat                     0\n",
       "Item_Type_Others                   0\n",
       "Item_Type_Seafood                  0\n",
       "Item_Type_Snack Foods              0\n",
       "Item_Type_Soft Drinks              0\n",
       "Item_Type_Starchy Foods            0\n",
       "Outlet_Size_Medium                 0\n",
       "Outlet_Size_Small                  0\n",
       "Outlet_Location_Type_Tier 2        0\n",
       "Outlet_Location_Type_Tier 3        0\n",
       "Outlet_Type_Supermarket Type1      0\n",
       "Outlet_Type_Supermarket Type2      0\n",
       "Outlet_Type_Supermarket Type3      0\n",
       "dtype: int64"
      ]
     },
     "execution_count": 33,
     "metadata": {},
     "output_type": "execute_result"
    }
   ],
   "source": [
    "X_test.isnull().sum()"
   ]
  },
  {
   "cell_type": "markdown",
   "metadata": {},
   "source": [
    "#### Imputation for missing values for categoric attributes"
   ]
  },
  {
   "cell_type": "code",
   "execution_count": 34,
   "metadata": {},
   "outputs": [
    {
     "name": "stderr",
     "output_type": "stream",
     "text": [
      "<ipython-input-34-af8be4239580>:5: SettingWithCopyWarning: \n",
      "A value is trying to be set on a copy of a slice from a DataFrame.\n",
      "Try using .loc[row_indexer,col_indexer] = value instead\n",
      "\n",
      "See the caveats in the documentation: https://pandas.pydata.org/pandas-docs/stable/user_guide/indexing.html#returning-a-view-versus-a-copy\n",
      "  X_train[cat_attr] = imputer_cat.transform(X_train[cat_attr])\n",
      "C:\\Users\\reshm\\anaconda3\\lib\\site-packages\\pandas\\core\\indexing.py:966: SettingWithCopyWarning: \n",
      "A value is trying to be set on a copy of a slice from a DataFrame.\n",
      "Try using .loc[row_indexer,col_indexer] = value instead\n",
      "\n",
      "See the caveats in the documentation: https://pandas.pydata.org/pandas-docs/stable/user_guide/indexing.html#returning-a-view-versus-a-copy\n",
      "  self.obj[item] = s\n",
      "<ipython-input-34-af8be4239580>:6: SettingWithCopyWarning: \n",
      "A value is trying to be set on a copy of a slice from a DataFrame.\n",
      "Try using .loc[row_indexer,col_indexer] = value instead\n",
      "\n",
      "See the caveats in the documentation: https://pandas.pydata.org/pandas-docs/stable/user_guide/indexing.html#returning-a-view-versus-a-copy\n",
      "  X_test[cat_attr] = imputer_cat.transform(X_test[cat_attr])\n",
      "C:\\Users\\reshm\\anaconda3\\lib\\site-packages\\pandas\\core\\indexing.py:966: SettingWithCopyWarning: \n",
      "A value is trying to be set on a copy of a slice from a DataFrame.\n",
      "Try using .loc[row_indexer,col_indexer] = value instead\n",
      "\n",
      "See the caveats in the documentation: https://pandas.pydata.org/pandas-docs/stable/user_guide/indexing.html#returning-a-view-versus-a-copy\n",
      "  self.obj[item] = s\n"
     ]
    }
   ],
   "source": [
    "imputer_cat = SimpleImputer(strategy='most_frequent')\n",
    "\n",
    "imputer_cat = imputer.fit(X_train[cat_attr])\n",
    "\n",
    "X_train[cat_attr] = imputer_cat.transform(X_train[cat_attr])\n",
    "X_test[cat_attr] = imputer_cat.transform(X_test[cat_attr])"
   ]
  },
  {
   "cell_type": "code",
   "execution_count": 35,
   "metadata": {},
   "outputs": [
    {
     "data": {
      "text/plain": [
       "Item_Weight                        0\n",
       "Item_Visibility                    0\n",
       "Item_MRP                           0\n",
       "Outlet_Establishment_Year          0\n",
       "Item_Fat_Content_Low Fat           0\n",
       "Item_Fat_Content_Regular           0\n",
       "Item_Fat_Content_low fat           0\n",
       "Item_Fat_Content_reg               0\n",
       "Item_Type_Breads                   0\n",
       "Item_Type_Breakfast                0\n",
       "Item_Type_Canned                   0\n",
       "Item_Type_Dairy                    0\n",
       "Item_Type_Frozen Foods             0\n",
       "Item_Type_Fruits and Vegetables    0\n",
       "Item_Type_Hard Drinks              0\n",
       "Item_Type_Health and Hygiene       0\n",
       "Item_Type_Household                0\n",
       "Item_Type_Meat                     0\n",
       "Item_Type_Others                   0\n",
       "Item_Type_Seafood                  0\n",
       "Item_Type_Snack Foods              0\n",
       "Item_Type_Soft Drinks              0\n",
       "Item_Type_Starchy Foods            0\n",
       "Outlet_Size_Medium                 0\n",
       "Outlet_Size_Small                  0\n",
       "Outlet_Location_Type_Tier 2        0\n",
       "Outlet_Location_Type_Tier 3        0\n",
       "Outlet_Type_Supermarket Type1      0\n",
       "Outlet_Type_Supermarket Type2      0\n",
       "Outlet_Type_Supermarket Type3      0\n",
       "dtype: int64"
      ]
     },
     "execution_count": 35,
     "metadata": {},
     "output_type": "execute_result"
    }
   ],
   "source": [
    "X_train.isnull().sum()"
   ]
  },
  {
   "cell_type": "code",
   "execution_count": 36,
   "metadata": {},
   "outputs": [
    {
     "data": {
      "text/plain": [
       "Item_Weight                        0\n",
       "Item_Visibility                    0\n",
       "Item_MRP                           0\n",
       "Outlet_Establishment_Year          0\n",
       "Item_Fat_Content_Low Fat           0\n",
       "Item_Fat_Content_Regular           0\n",
       "Item_Fat_Content_low fat           0\n",
       "Item_Fat_Content_reg               0\n",
       "Item_Type_Breads                   0\n",
       "Item_Type_Breakfast                0\n",
       "Item_Type_Canned                   0\n",
       "Item_Type_Dairy                    0\n",
       "Item_Type_Frozen Foods             0\n",
       "Item_Type_Fruits and Vegetables    0\n",
       "Item_Type_Hard Drinks              0\n",
       "Item_Type_Health and Hygiene       0\n",
       "Item_Type_Household                0\n",
       "Item_Type_Meat                     0\n",
       "Item_Type_Others                   0\n",
       "Item_Type_Seafood                  0\n",
       "Item_Type_Snack Foods              0\n",
       "Item_Type_Soft Drinks              0\n",
       "Item_Type_Starchy Foods            0\n",
       "Outlet_Size_Medium                 0\n",
       "Outlet_Size_Small                  0\n",
       "Outlet_Location_Type_Tier 2        0\n",
       "Outlet_Location_Type_Tier 3        0\n",
       "Outlet_Type_Supermarket Type1      0\n",
       "Outlet_Type_Supermarket Type2      0\n",
       "Outlet_Type_Supermarket Type3      0\n",
       "dtype: int64"
      ]
     },
     "execution_count": 36,
     "metadata": {},
     "output_type": "execute_result"
    }
   ],
   "source": [
    "X_test.isnull().sum()"
   ]
  },
  {
   "cell_type": "markdown",
   "metadata": {},
   "source": [
    "#### Standardizing the numerical attributes numeric attributes"
   ]
  },
  {
   "cell_type": "code",
   "execution_count": 38,
   "metadata": {},
   "outputs": [],
   "source": [
    "\n",
    "scaler = MinMaxScaler(feature_range=(0, 1))\n",
    "\n",
    "x_train_scaled = scaler.fit_transform(X_train)\n",
    "x_train = pd.DataFrame(x_train_scaled)\n",
    "\n",
    "x_test_scaled = scaler.fit_transform(X_test)\n",
    "x_test = pd.DataFrame(x_test_scaled)"
   ]
  },
  {
   "cell_type": "code",
   "execution_count": 39,
   "metadata": {},
   "outputs": [
    {
     "name": "stdout",
     "output_type": "stream",
     "text": [
      "RMSE value for k=  1 is: 1577.081916397957\n",
      "RMSE value for k=  2 is: 1376.0516018258347\n",
      "RMSE value for k=  3 is: 1293.1517210086952\n",
      "RMSE value for k=  4 is: 1264.1692053996785\n",
      "RMSE value for k=  5 is: 1244.1528810932518\n",
      "RMSE value for k=  6 is: 1232.122436542571\n",
      "RMSE value for k=  7 is: 1219.4342007304895\n",
      "RMSE value for k=  8 is: 1213.3349944508627\n",
      "RMSE value for k=  9 is: 1207.1062745452916\n",
      "RMSE value for k=  10 is: 1212.3476063408928\n",
      "RMSE value for k=  11 is: 1209.6619411468105\n",
      "RMSE value for k=  12 is: 1206.605436667536\n",
      "RMSE value for k=  13 is: 1205.1279262008097\n",
      "RMSE value for k=  14 is: 1206.08431498628\n",
      "RMSE value for k=  15 is: 1209.8707178096897\n",
      "RMSE value for k=  16 is: 1213.7577574131192\n",
      "RMSE value for k=  17 is: 1218.0650406080078\n",
      "RMSE value for k=  18 is: 1223.1009469866635\n",
      "RMSE value for k=  19 is: 1230.6953067994652\n",
      "RMSE value for k=  20 is: 1238.5102938289162\n"
     ]
    }
   ],
   "source": [
    "rmse_val = [] #to store rmse values for different k\n",
    "for K in range(20):\n",
    "    K = K+1\n",
    "    model = neighbors.KNeighborsRegressor(n_neighbors = K)\n",
    "\n",
    "    model.fit(x_train, y_train)  #fit the model\n",
    "    pred=model.predict(x_test) #make prediction on test set\n",
    "    error = sqrt(mean_squared_error(y_test,pred)) #calculate rmse\n",
    "    rmse_val.append(error) #store rmse values\n",
    "    print('RMSE value for k= ' , K , 'is:', error)"
   ]
  },
  {
   "cell_type": "code",
   "execution_count": 40,
   "metadata": {},
   "outputs": [
    {
     "data": {
      "text/plain": [
       "<matplotlib.axes._subplots.AxesSubplot at 0x24bb7534bb0>"
      ]
     },
     "execution_count": 40,
     "metadata": {},
     "output_type": "execute_result"
    },
    {
     "data": {
      "image/png": "[encoded data removed]",
      "text/plain": [
       "<Figure size 432x288 with 1 Axes>"
      ]
     },
     "metadata": {
      "needs_background": "light"
     },
     "output_type": "display_data"
    }
   ],
   "source": [
    "#plotting the rmse values against k values\n",
    "curve = pd.DataFrame(rmse_val) #elbow curve \n",
    "curve.plot()"
   ]
  },
  {
   "cell_type": "code",
   "execution_count": null,
   "metadata": {},
   "outputs": [],
   "source": [
    "# #reading test \n",
    "\n",
    "\n",
    "# test = pd.read_csv('big mart test.csv')\n",
    "\n",
    "\n",
    "# #preprocessing test dataset\n",
    "# test.drop(['Item_Identifier', 'Outlet_Identifier'], axis=1, inplace=True)\n",
    "# test['Item_Weight'].fillna(mean, inplace =True)\n",
    "# test = pd.get_dummies(test)\n",
    "# test_scaled = scaler.fit_transform(test)\n",
    "# test = pd.DataFrame(test_scaled)\n",
    "\n",
    "# #predicting on the test set and creating submission file\n",
    "# predict = model.predict(test)\n",
    "\n",
    "# predict.to_csv('name.csv',index=False)\n"
   ]
  }
 ],
 "metadata": {
  "kernelspec": {
   "display_name": "Python 3",
   "language": "python",
   "name": "python3"
  },
  "language_info": {
   "codemirror_mode": {
    "name": "ipython",
    "version": 3
   },
   "file_extension": ".py",
   "mimetype": "text/x-python",
   "name": "python",
   "nbconvert_exporter": "python",
   "pygments_lexer": "ipython3",
   "version": "3.8.3"
  }
 },
 "nbformat": 4,
 "nbformat_minor": 4
}
